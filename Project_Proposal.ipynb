{
  "nbformat": 4,
  "nbformat_minor": 0,
  "metadata": {
    "colab": {
      "name": "Project Proposal",
      "provenance": [],
      "authorship_tag": "ABX9TyNf/qGynmQoRi4D7RjM3K5q",
      "include_colab_link": true
    },
    "kernelspec": {
      "name": "python3",
      "display_name": "Python 3"
    },
    "language_info": {
      "name": "python"
    }
  },
  "cells": [
    {
      "cell_type": "markdown",
      "metadata": {
        "id": "view-in-github",
        "colab_type": "text"
      },
      "source": [
        "<a href=\"https://colab.research.google.com/github/MoraceA/Student-Mental-Health/blob/main/Project_Proposal.ipynb\" target=\"_parent\"><img src=\"https://colab.research.google.com/assets/colab-badge.svg\" alt=\"Open In Colab\"/></a>"
      ]
    },
    {
      "cell_type": "markdown",
      "source": [
        "**Project Proposal**\n",
        " \n",
        "\n",
        "\n",
        "> \n",
        "\n",
        "\n",
        "**Introduction**\n",
        "\n",
        "> Depression and anxiety are ongoing issues that many people worldwide face. In fact, about 280 million people around the world suffer from depression, and 275 million people suffer from anxiety disorders. Approximately one in five adults ages 18 and over experience symptoms of anxiety and depression, where 44 percent of college students have symptoms of depression and anxiety. In my research, I will analyze what courses contain the highest amount of students suffering from anxiety and depression.\n",
        "\n",
        "\n",
        "\n",
        "\n",
        "\n",
        "> \n",
        "\n",
        "\n",
        "\n",
        "\n",
        "\n",
        "\n",
        " \n",
        "\n",
        "\n",
        " \n",
        "**Research Questions**\n",
        "> \n",
        "1. >    Which college courses contribute the most to depression?\n",
        "-       This question will determine if there is a correlation between specific college courses and depression.\n",
        "2.    > Which college courses contribute the most to anxiety?\n",
        "-       This question will determine if there is a correlation between specific college courses and anxiety.\n",
        " \n",
        ">Mental health disorders are significantly common amongst college students. The purpose of the results of my research is to reveal which college courses may contribute to mental health disorders amongst students. Throughout my research, we will analyze if there is a link between subjects in college and mental health disorders. \n",
        " \n",
        "\n",
        "\n",
        "> \n",
        "\n",
        "\n",
        "> **Data to be Used ***\n",
        "\n",
        " > In order to discover a correlation between college courses and the rates of mental health disorders in students, I will gather my data from the Student Mental Health dataset from Kaggle. Data will be downloaded from the website as StudentMentalHealth.csv, and will be uploaded onto GitHub. Once uploaded to GitHub, the data will be converted into raw data.\n",
        " \n",
        "\n",
        "> \n",
        "\n",
        "**Approach ***\n",
        "\n",
        "> To analyze which college courses are linked to anxiety and depression, I will first determine what type of data I am utilizing; categorical or numerical. Then, I will examine the dataset for any nulls or missing data. If missing data is present, I will impute data to substitute any missing values. If there are very few missing data, I will calculate the average of the data using the mean() function and substitute this value. However, if there is a lot of missing data, I will drop the missing data utilizing the drop() function. Next, I will test again for missing data to ensure that there is no data missing in my dataset. Then, I will gather the statistics of my data by utilizing the describe() function. After, I will begin generating graphs to visually analyze my data. I will begin by generating a graph to examine how many students are suffering from anxiety, and another graph to examine how many students are suffering from depression. By doing so, I will be able to compare the number of students who are suffering from anxiety and depression to those who are not. Then, I will generate a graph comparing the number of students with depression and the courses they are taking. The x-intercept will consist of courses and the y-intercept will consist of the number of students with depression. I will make sure to include STEM classes and non-STEM classes to compare the number of students who are depressed in STEM classes and non-STEM classes. I will do the same with the number of students who are suffering from anxiety. I hypothesize that there will be higher rates of students with anxiety and depression in STEM courses because of stress."
      ],
      "metadata": {
        "id": "DWX7RAil4qec"
      }
    }
  ]
}